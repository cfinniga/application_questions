{
 "cells": [
  {
   "cell_type": "markdown",
   "metadata": {},
   "source": [
    "## Question 1: Fibonacci"
   ]
  },
  {
   "cell_type": "code",
   "execution_count": 82,
   "metadata": {},
   "outputs": [],
   "source": [
    "# Python 3\n",
    "# Can be run in a Jupyter notebook\n",
    "# Author: Caitlin Finnigan\n",
    "# If we assume multiplication is O(1), then this solution runs in O(n)\n",
    "\n",
    "import math\n",
    "\n",
    "def fib(n):\n",
    "    '''\n",
    "    input\n",
    "    n: an integer\n",
    "    \n",
    "    output:\n",
    "    fib_n: nth fibonacci number f[n] to be calculated, where:\n",
    "        f[n] = f[n - 1] + f[n - 2]\n",
    "        f[0] = 0\n",
    "        f[1] = 1\n",
    "    '''\n",
    "    \n",
    "    a = (1 - math.sqrt(5))/2\n",
    "    b = (1 + math.sqrt(5))/2\n",
    "    fib_n = int((1/math.sqrt(5))*( b**n - a**n ))\n",
    "    return fib_n"
   ]
  },
  {
   "cell_type": "markdown",
   "metadata": {},
   "source": [
    "### Testing the code with the first 10 fibonacci numbers:"
   ]
  },
  {
   "cell_type": "code",
   "execution_count": 126,
   "metadata": {},
   "outputs": [
    {
     "name": "stdout",
     "output_type": "stream",
     "text": [
      "0\n",
      "1\n",
      "1\n",
      "2\n",
      "3\n",
      "5\n",
      "8\n",
      "13\n",
      "21\n",
      "34\n"
     ]
    }
   ],
   "source": [
    "for i in range(0,10):\n",
    "    print(fib(i))"
   ]
  }
 ],
 "metadata": {
  "kernelspec": {
   "display_name": "Python 3",
   "language": "python",
   "name": "python3"
  },
  "language_info": {
   "codemirror_mode": {
    "name": "ipython",
    "version": 3
   },
   "file_extension": ".py",
   "mimetype": "text/x-python",
   "name": "python",
   "nbconvert_exporter": "python",
   "pygments_lexer": "ipython3",
   "version": "3.8.3"
  }
 },
 "nbformat": 4,
 "nbformat_minor": 4
}
