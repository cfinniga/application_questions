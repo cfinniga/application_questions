{
 "cells": [
  {
   "cell_type": "markdown",
   "metadata": {},
   "source": [
    "## Question 2: Merging lists\n",
    "        \n",
    "After combining the lists in the desired way, I cast them as a set to remove duplicates, then recast as a list.\n",
    "\n",
    "To sort by multiple attributes, I first sort alphabetically, then sort by string length. We can do the sorts separately because python's sorted function is stable and will maintain the first order during the second sort.\n",
    "https://wiki.python.org/moin/HowTo/Sorting/"
   ]
  },
  {
   "cell_type": "code",
   "execution_count": 127,
   "metadata": {},
   "outputs": [],
   "source": [
    "# Python 3\n",
    "# Can be run in a Jupyter notebook\n",
    "# Author: Caitlin Finnigan\n",
    "import math\n",
    "\n",
    "def merge_lists(original, add, delete):\n",
    "    '''\n",
    "    inputs:\n",
    "    original: list to modify\n",
    "    add: list to add to original\n",
    "    delete: list to remove from the other lists\n",
    "    \n",
    "    outputs:\n",
    "    sorted_result: Result list after a reverse alphabetical sort, and a sort from highest to lowest string length\n",
    "    '''\n",
    "    \n",
    "    # convert lists to sets\n",
    "    original_set = set(original)\n",
    "    add_set = set(add)\n",
    "  \n",
    "    # perform a set union\n",
    "    set_result = original_set | add_set\n",
    "    \n",
    "    # delete the delete_list items from the result\n",
    "    for item in delete:\n",
    "        if item in set_result:\n",
    "            set_result.discard(item)\n",
    "    \n",
    "    # convert result set back to list\n",
    "    result_list = list(set_result)\n",
    "    \n",
    "    # create a list for each sorting attributes\n",
    "    def first_char(s):\n",
    "        return ord(s[0])\n",
    "    char_number = list(map(first_char,result_list))\n",
    "    char_count = list(map(len,result_list))\n",
    "    \n",
    "    # first sort the list alphabetically\n",
    "    alpha_sort = [char_number for _,char_number in sorted(zip(char_number,result_list),reverse=True)]\n",
    "    char_count = [char_number for _,char_number in sorted(zip(char_number,char_count),reverse=True)]\n",
    "\n",
    "    # then sort the list by string lengths\n",
    "    sorted_result = [char_count for _,char_count in sorted(zip(char_count,alpha_sort),reverse=True)]\n",
    "    return sorted_result"
   ]
  },
  {
   "cell_type": "markdown",
   "metadata": {},
   "source": [
    "### Some simple tests:"
   ]
  },
  {
   "cell_type": "code",
   "execution_count": 133,
   "metadata": {},
   "outputs": [
    {
     "name": "stdout",
     "output_type": "stream",
     "text": [
      "['three', 'six', 'one', 'kl', 'ij', 'gh', 'ef', 'cd', 'ab']\n"
     ]
    }
   ],
   "source": [
    "original = ['one', 'two', 'three']\n",
    "add = ['one', 'ab','cd', 'two', 'five', 'six', 'ij','kl','ef','gh']\n",
    "delete = ['two', 'five']\n",
    "result = merge_lists(original,add,delete)\n",
    "print(result)"
   ]
  },
  {
   "cell_type": "code",
   "execution_count": 134,
   "metadata": {},
   "outputs": [
    {
     "name": "stdout",
     "output_type": "stream",
     "text": [
      "['three', 'six', 'one']\n"
     ]
    }
   ],
   "source": [
    "original = ['one', 'two', 'three']\n",
    "add = ['one', 'two', 'five', 'six']\n",
    "delete = ['two', 'five']\n",
    "result = merge_lists(original,add,delete)\n",
    "print(result)"
   ]
  },
  {
   "cell_type": "code",
   "execution_count": 135,
   "metadata": {},
   "outputs": [
    {
     "name": "stdout",
     "output_type": "stream",
     "text": [
      "['two', 'five', 'three', 'six', 'one']\n"
     ]
    }
   ],
   "source": [
    "original = ['one', 'two', 'three']\n",
    "add = ['one', 'two', 'five', 'six']\n",
    "delete = []\n",
    "result = merge_lists(original,add,delete)\n",
    "print(result)"
   ]
  },
  {
   "cell_type": "code",
   "execution_count": 136,
   "metadata": {},
   "outputs": [
    {
     "name": "stdout",
     "output_type": "stream",
     "text": [
      "['five', 'two', 'six', 'one']\n"
     ]
    }
   ],
   "source": [
    "original = []\n",
    "add = ['one', 'two', 'five', 'six']\n",
    "delete = ['four']\n",
    "result = merge_lists(original,add,delete)\n",
    "print(result)"
   ]
  },
  {
   "cell_type": "code",
   "execution_count": 137,
   "metadata": {},
   "outputs": [
    {
     "name": "stdout",
     "output_type": "stream",
     "text": [
      "['five']\n"
     ]
    }
   ],
   "source": [
    "original = ['five']\n",
    "add = []\n",
    "delete = []\n",
    "result = merge_lists(original,add,delete)\n",
    "print(result)"
   ]
  },
  {
   "cell_type": "code",
   "execution_count": null,
   "metadata": {},
   "outputs": [],
   "source": []
  }
 ],
 "metadata": {
  "kernelspec": {
   "display_name": "Python 3",
   "language": "python",
   "name": "python3"
  },
  "language_info": {
   "codemirror_mode": {
    "name": "ipython",
    "version": 3
   },
   "file_extension": ".py",
   "mimetype": "text/x-python",
   "name": "python",
   "nbconvert_exporter": "python",
   "pygments_lexer": "ipython3",
   "version": "3.8.3"
  }
 },
 "nbformat": 4,
 "nbformat_minor": 4
}
